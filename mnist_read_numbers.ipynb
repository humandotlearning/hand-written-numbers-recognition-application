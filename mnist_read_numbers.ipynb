{
 "cells": [
  {
   "cell_type": "code",
   "execution_count": 1,
   "metadata": {},
   "outputs": [
    {
     "data": {
      "application/javascript": [
       "IPython.notebook.set_autosave_interval(0)"
      ]
     },
     "metadata": {},
     "output_type": "display_data"
    },
    {
     "name": "stdout",
     "output_type": "stream",
     "text": [
      "Autosave disabled\n"
     ]
    }
   ],
   "source": [
    "%autosave 0"
   ]
  },
  {
   "cell_type": "code",
   "execution_count": 2,
   "metadata": {},
   "outputs": [],
   "source": [
    "import torch\n",
    "import torch.nn as nn\n",
    "from torch.autograd import Variable\n",
    "\n"
   ]
  },
  {
   "cell_type": "code",
   "execution_count": 3,
   "metadata": {},
   "outputs": [],
   "source": [
    "import matplotlib.pyplot as plt"
   ]
  },
  {
   "cell_type": "code",
   "execution_count": 4,
   "metadata": {},
   "outputs": [],
   "source": [
    "import cv2\n",
    "from collections import deque\n",
    "import numpy as np"
   ]
  },
  {
   "cell_type": "code",
   "execution_count": 157,
   "metadata": {},
   "outputs": [],
   "source": [
    "coordinates={'x1':0,'y1':0,'x2':300,'y2':300}\n",
    "cnn_input_size=28\n",
    "num=[]"
   ]
  },
  {
   "cell_type": "code",
   "execution_count": 77,
   "metadata": {},
   "outputs": [],
   "source": [
    "class neuralnet(nn.Module):\n",
    "    def __init__(self,in_dim,h1,h2,out_dim):\n",
    "        super(neuralnet,self).__init__()\n",
    "        self.net=nn.Sequential(\n",
    "          nn.Linear(in_dim,h1),\n",
    "          nn.Dropout(0.5),\n",
    "          nn.ReLU(),\n",
    "          nn.Linear(h1,h2),\n",
    "          nn.Dropout(0.5),\n",
    "          nn.ReLU(),\n",
    "          nn.Linear(h2,out_dim),\n",
    "        )\n",
    "    def forward(self,x):\n",
    "        x=self.net(x)\n",
    "        return x"
   ]
  },
  {
   "cell_type": "code",
   "execution_count": 78,
   "metadata": {},
   "outputs": [],
   "source": [
    "model=torch.load('pretrained pytorch model/model_gpu.pt')"
   ]
  },
  {
   "cell_type": "code",
   "execution_count": 171,
   "metadata": {},
   "outputs": [],
   "source": [
    "cap=cv2.VideoCapture(0)\n",
    "model.eval()\n",
    "while True:\n",
    "    _,frame= cap.read()\n",
    "    frame=cv2.flip(frame,1)\n",
    "    mask=frame[coordinates['y1']:coordinates['y2'],coordinates['y1']:coordinates['x2']]\n",
    "    kernel=np.ones((5,5),np.uint8)\n",
    "    mask=cv2.cvtColor(mask,cv2.COLOR_BGR2GRAY)\n",
    "    \n",
    "    mask=cv2.erode(mask,kernel,iterations=3)\n",
    "    mask=cv2.morphologyEx(mask, cv2.MORPH_OPEN, kernel)\n",
    "    mask=cv2.dilate(mask,kernel,iterations=3)\n",
    "    _, mask= cv2.threshold(mask,150,255,cv2.THRESH_BINARY_INV)    \n",
    "    small = cv2.resize(mask, (cnn_input_size, cnn_input_size), interpolation = cv2.INTER_NEAREST)\n",
    "    small=cv2.flip(small,1)\n",
    "    \n",
    "    \n",
    "    #model and prediction\n",
    "    num=torch.from_numpy(small).view((-1,28*28)).type(torch.FloatTensor).cuda()\n",
    "    pred=model(num).cuda()\n",
    "    _,predicted= torch.max(pred.data,1)\n",
    "    text=\"prediction \"+ str(max(predicted.data.tolist()))\n",
    "    \n",
    "    #rectangle\n",
    "    a=cv2.rectangle(frame,(coordinates['x1'],coordinates['y1']),(coordinates['x2'],coordinates['y2']),(0,255,0),3)\n",
    "    \n",
    "    #text to be written\n",
    "    font = cv2.FONT_HERSHEY_SIMPLEX\n",
    "    cv2.putText(frame,text,(coordinates['x1']+10,coordinates['y2']-10), font, 2,(0,255,255),2,cv2.LINE_AA)\n",
    "    \n",
    "    \n",
    "    cv2.imshow(\"frame\",frame)\n",
    "    cv2.imshow(\"mask\",small)\n",
    "    \n",
    "    \n",
    "    if cv2.waitKey(1) & 0xFF== ord('q'):\n",
    "        break\n",
    "cap.release()\n",
    "cv2.destroyAllWindows()"
   ]
  },
  {
   "cell_type": "code",
   "execution_count": 142,
   "metadata": {},
   "outputs": [],
   "source": [
    "cap.release()\n",
    "cv2.destroyAllWindows()"
   ]
  },
  {
   "cell_type": "code",
   "execution_count": null,
   "metadata": {},
   "outputs": [],
   "source": []
  }
 ],
 "metadata": {
  "kernelspec": {
   "display_name": "Python [conda env:py36]",
   "language": "python",
   "name": "conda-env-py36-py"
  },
  "language_info": {
   "codemirror_mode": {
    "name": "ipython",
    "version": 3
   },
   "file_extension": ".py",
   "mimetype": "text/x-python",
   "name": "python",
   "nbconvert_exporter": "python",
   "pygments_lexer": "ipython3",
   "version": "3.6.5"
  }
 },
 "nbformat": 4,
 "nbformat_minor": 2
}
