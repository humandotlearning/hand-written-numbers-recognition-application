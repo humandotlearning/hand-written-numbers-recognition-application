{
  "nbformat": 4,
  "nbformat_minor": 0,
  "metadata": {
    "colab": {
      "name": "mnist_pytorch_nn.ipynb",
      "version": "0.3.2",
      "provenance": [],
      "collapsed_sections": [],
      "include_colab_link": true
    },
    "kernelspec": {
      "name": "python3",
      "display_name": "Python 3"
    },
    "accelerator": "GPU"
  },
  "cells": [
    {
      "cell_type": "markdown",
      "metadata": {
        "id": "view-in-github",
        "colab_type": "text"
      },
      "source": [
        "[View in Colaboratory](https://colab.research.google.com/github/humandotlearning/hand-written-numbers-recognition-application/blob/master/mnist_pytorch_nn.ipynb)"
      ]
    },
    {
      "metadata": {
        "id": "3HjeQHhU7RnE",
        "colab_type": "code",
        "colab": {
          "base_uri": "https://localhost:8080/",
          "height": 35
        },
        "outputId": "1ebd7ff9-ad09-4853-eca1-8840267caed5"
      },
      "cell_type": "code",
      "source": [
        "%autosave 0"
      ],
      "execution_count": 63,
      "outputs": [
        {
          "output_type": "display_data",
          "data": {
            "application/javascript": [
              "IPython.notebook.set_autosave_interval(0)"
            ]
          },
          "metadata": {
            "tags": []
          }
        },
        {
          "output_type": "stream",
          "text": [
            "Autosave disabled\n"
          ],
          "name": "stdout"
        }
      ]
    },
    {
      "metadata": {
        "id": "YYb0U4ca7ShD",
        "colab_type": "code",
        "colab": {
          "base_uri": "https://localhost:8080/",
          "height": 35
        },
        "outputId": "8e4103e9-2f87-4043-d1c3-891f75ebe71c"
      },
      "cell_type": "code",
      "source": [
        "!pip install torch"
      ],
      "execution_count": 64,
      "outputs": [
        {
          "output_type": "stream",
          "text": [
            "Requirement already satisfied: torch in /usr/local/lib/python3.6/dist-packages (0.4.0)\r\n"
          ],
          "name": "stdout"
        }
      ]
    },
    {
      "metadata": {
        "id": "fvYUnWW77agt",
        "colab_type": "code",
        "colab": {
          "base_uri": "https://localhost:8080/",
          "height": 107
        },
        "outputId": "2c713792-9dd2-4b99-90a0-c01b3723e022"
      },
      "cell_type": "code",
      "source": [
        "!pip install torchvision"
      ],
      "execution_count": 65,
      "outputs": [
        {
          "output_type": "stream",
          "text": [
            "Requirement already satisfied: torchvision in /usr/local/lib/python3.6/dist-packages (0.2.1)\r\n",
            "Requirement already satisfied: pillow>=4.1.1 in /usr/local/lib/python3.6/dist-packages (from torchvision) (5.2.0)\r\n",
            "Requirement already satisfied: six in /usr/local/lib/python3.6/dist-packages (from torchvision) (1.11.0)\r\n",
            "Requirement already satisfied: numpy in /usr/local/lib/python3.6/dist-packages (from torchvision) (1.14.5)\r\n",
            "Requirement already satisfied: torch in /usr/local/lib/python3.6/dist-packages (from torchvision) (0.4.0)\r\n"
          ],
          "name": "stdout"
        }
      ]
    },
    {
      "metadata": {
        "id": "PSH6u-K27RnJ",
        "colab_type": "code",
        "colab": {}
      },
      "cell_type": "code",
      "source": [
        "import torch\n",
        "import torch.nn as nn\n",
        "from torch.autograd import Variable\n",
        "import torchvision.datasets as dsets\n",
        "import torchvision.transforms as transforms\n",
        "import matplotlib.pyplot as plt"
      ],
      "execution_count": 0,
      "outputs": []
    },
    {
      "metadata": {
        "id": "V6_PYqcx7RnM",
        "colab_type": "code",
        "colab": {}
      },
      "cell_type": "code",
      "source": [
        "train_dataset= dsets.MNIST(root='./MNIST',train=True, transform=transforms.ToTensor(),download=True)\n",
        "test_dataset= dsets.MNIST(root='./MNIST', train=False, transform=transforms.ToTensor(), download=True)"
      ],
      "execution_count": 0,
      "outputs": []
    },
    {
      "metadata": {
        "id": "5L7jGmud7RnP",
        "colab_type": "code",
        "colab": {
          "base_uri": "https://localhost:8080/",
          "height": 35
        },
        "outputId": "e16e749a-e27d-4c01-b05e-26734d07eabe"
      },
      "cell_type": "code",
      "source": [
        "train_dataset[0][0].size()"
      ],
      "execution_count": 68,
      "outputs": [
        {
          "output_type": "execute_result",
          "data": {
            "text/plain": [
              "torch.Size([1, 28, 28])"
            ]
          },
          "metadata": {
            "tags": []
          },
          "execution_count": 68
        }
      ]
    },
    {
      "metadata": {
        "id": "vK60VyOJ7RnT",
        "colab_type": "code",
        "colab": {}
      },
      "cell_type": "code",
      "source": [
        "def show(i=0,train_set=True):\n",
        "    if train_set:\n",
        "        plt.imshow(train_dataset[i][0].view(28,28), cmap='gray')\n",
        "        plt.title(train_dataset[i][1])\n",
        "    else:\n",
        "        plt.imshow(test_dataset[i][0].view(28,28), cmap='gray')\n",
        "        plt.title(test_dataset[i][1])"
      ],
      "execution_count": 0,
      "outputs": []
    },
    {
      "metadata": {
        "id": "VsBwzRVD7RnW",
        "colab_type": "code",
        "colab": {
          "base_uri": "https://localhost:8080/",
          "height": 362
        },
        "outputId": "bba561a4-d3db-4317-81ed-2b4799ad6909"
      },
      "cell_type": "code",
      "source": [
        "show(55)"
      ],
      "execution_count": 70,
      "outputs": [
        {
          "output_type": "display_data",
          "data": {
            "image/png": "[encoded data removed]",
            "text/plain": [
              "<matplotlib.figure.Figure at 0x7fa4584840b8>"
            ]
          },
          "metadata": {
            "tags": []
          }
        }
      ]
    },
    {
      "metadata": {
        "id": "swDYX61Z7RnZ",
        "colab_type": "code",
        "colab": {}
      },
      "cell_type": "code",
      "source": [
        "batch_size=100\n",
        "n_iters=3000\n",
        "num_epochs= int(n_iters/(len(train_dataset)/batch_size))"
      ],
      "execution_count": 0,
      "outputs": []
    },
    {
      "metadata": {
        "id": "fhp5viDL7Rnb",
        "colab_type": "code",
        "colab": {
          "base_uri": "https://localhost:8080/",
          "height": 35
        },
        "outputId": "0e35995a-0073-4ce2-eb2d-37f16cdcd388"
      },
      "cell_type": "code",
      "source": [
        "num_epochs"
      ],
      "execution_count": 72,
      "outputs": [
        {
          "output_type": "execute_result",
          "data": {
            "text/plain": [
              "5"
            ]
          },
          "metadata": {
            "tags": []
          },
          "execution_count": 72
        }
      ]
    },
    {
      "metadata": {
        "id": "HAuFuXDj7Rnh",
        "colab_type": "code",
        "colab": {}
      },
      "cell_type": "code",
      "source": [
        "train_loader=torch.utils.data.DataLoader(train_dataset,batch_size=batch_size,shuffle=True)"
      ],
      "execution_count": 0,
      "outputs": []
    },
    {
      "metadata": {
        "id": "RaCU4OkU7Rnp",
        "colab_type": "code",
        "colab": {}
      },
      "cell_type": "code",
      "source": [
        "test_loader=torch.utils.data.DataLoader(test_dataset,batch_size=batch_size,shuffle=False)"
      ],
      "execution_count": 0,
      "outputs": []
    },
    {
      "metadata": {
        "id": "naGSmdU_7Rnr",
        "colab_type": "code",
        "colab": {}
      },
      "cell_type": "code",
      "source": [
        "class neuralnet(nn.Module):\n",
        "    def __init__(self,in_dim,h1,h2,out_dim):\n",
        "        super(neuralnet,self).__init__()\n",
        "        self.net=nn.Sequential(\n",
        "          nn.Linear(in_dim,h1),\n",
        "          nn.Dropout(0.5),\n",
        "          nn.ReLU(),\n",
        "          nn.Linear(h1,h2),\n",
        "          nn.Dropout(0.5),\n",
        "          nn.ReLU(),\n",
        "          nn.Linear(h2,out_dim),\n",
        "        )\n",
        "    def forward(self,x):\n",
        "        x=self.net(x)\n",
        "        return x"
      ],
      "execution_count": 0,
      "outputs": []
    },
    {
      "metadata": {
        "id": "XhgzC0Tf7Rnu",
        "colab_type": "code",
        "colab": {}
      },
      "cell_type": "code",
      "source": [
        "in_dim=28*28\n",
        "h1=150\n",
        "h2=100\n",
        "out_dim= 10"
      ],
      "execution_count": 0,
      "outputs": []
    },
    {
      "metadata": {
        "id": "3Fcesmw07Rny",
        "colab_type": "code",
        "colab": {}
      },
      "cell_type": "code",
      "source": [
        "model= neuralnet(in_dim,h1,h2,out_dim).cuda()"
      ],
      "execution_count": 0,
      "outputs": []
    },
    {
      "metadata": {
        "id": "lSkzc-9Q7Rn0",
        "colab_type": "code",
        "colab": {}
      },
      "cell_type": "code",
      "source": [
        "criterion=nn.CrossEntropyLoss()"
      ],
      "execution_count": 0,
      "outputs": []
    },
    {
      "metadata": {
        "id": "dh6H1jgS7Rn3",
        "colab_type": "code",
        "colab": {}
      },
      "cell_type": "code",
      "source": [
        "learning_rate=0.01\n",
        "optimizer=torch.optim.SGD(model.parameters(),lr=learning_rate)"
      ],
      "execution_count": 0,
      "outputs": []
    },
    {
      "metadata": {
        "id": "JaOwrYyo7Rn6",
        "colab_type": "code",
        "colab": {
          "base_uri": "https://localhost:8080/",
          "height": 199
        },
        "outputId": "d0266f03-c60a-4cad-be98-aa2b2c0dd5af"
      },
      "cell_type": "code",
      "source": [
        "%%time\n",
        "iter=0\n",
        "for epoch in range(num_epochs):\n",
        "    epoch=epoch+1\n",
        "    for i, (images,labels) in enumerate(train_loader):\n",
        "        #labels=labels.type(torch.LongTensor)\n",
        "        images=Variable(images.view(-1,28*28).cuda())\n",
        "        labels=Variable(labels.cuda())\n",
        "        \n",
        "        optimizer.zero_grad()\n",
        "        \n",
        "        outputs= model(images)\n",
        "        \n",
        "        loss=criterion(outputs,labels)\n",
        "        \n",
        "        loss.backward()\n",
        "        \n",
        "        optimizer.step()\n",
        "        iter+=1\n",
        "        \n",
        "        if iter % 500 ==0:\n",
        "            correct=0\n",
        "            total=0\n",
        "        \n",
        "            for images,labels in test_loader:\n",
        "                images=Variable(images.view(-1,28*28).cuda())\n",
        "                \n",
        "                outputs=model(images)\n",
        "                \n",
        "                _,predicted= torch.max(outputs.data,1)\n",
        "                total += labels.size(0)\n",
        "                correct += (predicted.cpu()==labels.cpu()).sum()\n",
        "\n",
        "            accuracy=100 * correct/total\n",
        "            print(f\"iterations: {iter} , loss: {loss.data[0]}, accuracy: {accuracy}\")\n"
      ],
      "execution_count": 105,
      "outputs": [
        {
          "output_type": "stream",
          "text": [
            "/usr/local/lib/python3.6/dist-packages/ipykernel_launcher.py:34: UserWarning: invalid index of a 0-dim tensor. This will be an error in PyTorch 0.5. Use tensor.item() to convert a 0-dim tensor to a Python number\n"
          ],
          "name": "stderr"
        },
        {
          "output_type": "stream",
          "text": [
            "iterations: 500 , loss: 0.2901875972747803, accuracy: 90\n",
            "iterations: 1000 , loss: 0.27826201915740967, accuracy: 89\n",
            "iterations: 1500 , loss: 0.2793291211128235, accuracy: 90\n",
            "iterations: 2000 , loss: 0.29497185349464417, accuracy: 90\n",
            "iterations: 2500 , loss: 0.2723633646965027, accuracy: 90\n",
            "iterations: 3000 , loss: 0.2443697601556778, accuracy: 91\n",
            "CPU times: user 37 s, sys: 4.56 s, total: 41.5 s\n",
            "Wall time: 41.5 s\n"
          ],
          "name": "stdout"
        }
      ]
    },
    {
      "metadata": {
        "id": "Btog_SBM7Rn-",
        "colab_type": "code",
        "colab": {}
      },
      "cell_type": "code",
      "source": [
        "_,predicted= torch.max(outputs.data,1)\n"
      ],
      "execution_count": 0,
      "outputs": []
    },
    {
      "metadata": {
        "id": "S5oEn7Zk7RoB",
        "colab_type": "code",
        "colab": {
          "base_uri": "https://localhost:8080/",
          "height": 161
        },
        "outputId": "3861e46a-3b26-4557-d005-ec7620f8be70"
      },
      "cell_type": "code",
      "source": [
        "predicted"
      ],
      "execution_count": 82,
      "outputs": [
        {
          "output_type": "execute_result",
          "data": {
            "text/plain": [
              "tensor([ 8,  9,  0,  1,  2,  7,  4,  5,  6,  7,  8,  0,  1,  2,\n",
              "         3,  4,  7,  8,  9,  7,  8,  6,  4,  1,  9,  3,  8,  4,\n",
              "         4,  7,  0,  1,  9,  2,  8,  7,  8,  2,  6,  0,  0,  6,\n",
              "         3,  3,  9,  9,  1,  4,  0,  6,  1,  0,  0,  0,  2,  1,\n",
              "         1,  7,  7,  3,  4,  6,  0,  7,  0,  3,  6,  8,  7,  1,\n",
              "         3,  2,  4,  9,  4,  2,  6,  4,  1,  7,  3,  6,  2,  0,\n",
              "         1,  2,  3,  4,  5,  6,  7,  8,  9,  0,  1,  2,  3,  4,\n",
              "         5,  6], device='cuda:0')"
            ]
          },
          "metadata": {
            "tags": []
          },
          "execution_count": 82
        }
      ]
    },
    {
      "metadata": {
        "id": "m-8oZbETZRj9",
        "colab_type": "code",
        "colab": {
          "base_uri": "https://localhost:8080/",
          "height": 53
        },
        "outputId": "f15f144c-65ac-44d8-d6ec-eb5da8734ba8"
      },
      "cell_type": "code",
      "source": [
        "outputs.data[0]"
      ],
      "execution_count": 91,
      "outputs": [
        {
          "output_type": "execute_result",
          "data": {
            "text/plain": [
              "tensor([-2.3237,  1.1712,  1.3614,  0.8723, -2.2406,  2.5664,  0.0207,\n",
              "        -4.0707,  5.2034, -1.4964], device='cuda:0')"
            ]
          },
          "metadata": {
            "tags": []
          },
          "execution_count": 91
        }
      ]
    },
    {
      "metadata": {
        "id": "onoi84O2AKq5",
        "colab_type": "code",
        "colab": {
          "base_uri": "https://localhost:8080/",
          "height": 161
        },
        "outputId": "497d4ed0-ffc9-4d0d-9e01-b4b71beedc11"
      },
      "cell_type": "code",
      "source": [
        "labels"
      ],
      "execution_count": 83,
      "outputs": [
        {
          "output_type": "execute_result",
          "data": {
            "text/plain": [
              "tensor([ 8,  9,  0,  1,  2,  3,  4,  5,  6,  7,  8,  0,  1,  2,\n",
              "         3,  4,  7,  8,  9,  7,  8,  6,  4,  1,  9,  3,  8,  4,\n",
              "         4,  7,  0,  1,  9,  2,  8,  7,  8,  2,  6,  0,  6,  5,\n",
              "         3,  3,  3,  9,  1,  4,  0,  6,  1,  0,  0,  6,  2,  1,\n",
              "         1,  7,  7,  8,  4,  6,  0,  7,  0,  3,  6,  8,  7,  1,\n",
              "         5,  2,  4,  9,  4,  3,  6,  4,  1,  7,  2,  6,  5,  0,\n",
              "         1,  2,  3,  4,  5,  6,  7,  8,  9,  0,  1,  2,  3,  4,\n",
              "         5,  6])"
            ]
          },
          "metadata": {
            "tags": []
          },
          "execution_count": 83
        }
      ]
    },
    {
      "metadata": {
        "id": "UBm3qF1mAO43",
        "colab_type": "code",
        "colab": {
          "base_uri": "https://localhost:8080/",
          "height": 73
        },
        "outputId": "5f237db4-83f5-415a-cd64-6c30b8d9a8e7"
      },
      "cell_type": "code",
      "source": [
        "torch.save(model,'./model.pt')"
      ],
      "execution_count": 85,
      "outputs": [
        {
          "output_type": "stream",
          "text": [
            "/usr/local/lib/python3.6/dist-packages/torch/serialization.py:193: UserWarning: Couldn't retrieve source code for container of type neuralnet. It won't be checked for correctness upon loading.\n",
            "  \"type \" + obj.__name__ + \". It won't be checked \"\n"
          ],
          "name": "stderr"
        }
      ]
    },
    {
      "metadata": {
        "id": "mQEi88mdeUzo",
        "colab_type": "code",
        "colab": {}
      },
      "cell_type": "code",
      "source": [
        "model1=torch.load('./model.pt')"
      ],
      "execution_count": 0,
      "outputs": []
    },
    {
      "metadata": {
        "id": "YbbjgxTAehC1",
        "colab_type": "code",
        "colab": {}
      },
      "cell_type": "code",
      "source": [
        "x=model1(images)"
      ],
      "execution_count": 0,
      "outputs": []
    },
    {
      "metadata": {
        "id": "-ca6KeRGeurn",
        "colab_type": "code",
        "colab": {
          "base_uri": "https://localhost:8080/",
          "height": 53
        },
        "outputId": "a6892c0c-0838-4c01-95d0-3ea713b057f1"
      },
      "cell_type": "code",
      "source": [
        "x.data[0]"
      ],
      "execution_count": 90,
      "outputs": [
        {
          "output_type": "execute_result",
          "data": {
            "text/plain": [
              "tensor([-2.3237,  1.1712,  1.3614,  0.8723, -2.2406,  2.5664,  0.0207,\n",
              "        -4.0707,  5.2034, -1.4964], device='cuda:0')"
            ]
          },
          "metadata": {
            "tags": []
          },
          "execution_count": 90
        }
      ]
    },
    {
      "metadata": {
        "id": "AgXx04K1ev_m",
        "colab_type": "code",
        "colab": {}
      },
      "cell_type": "code",
      "source": [
        ""
      ],
      "execution_count": 0,
      "outputs": []
    }
  ]
}